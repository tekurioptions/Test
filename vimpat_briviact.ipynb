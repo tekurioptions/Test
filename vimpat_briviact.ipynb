{
 "cells": [
  {
   "cell_type": "code",
   "execution_count": 1,
   "metadata": {},
   "outputs": [],
   "source": [
    "import pyspark\n",
    "from pyspark.sql import functions as f, Window\n",
    "import pandas as pd\n",
    "from kedro.pipeline import *\n",
    "from kedro.io import *\n",
    "from kedro.runner import *\n",
    "\n",
    "import pickle\n",
    "import os\n",
    "from pyspark.sql import SparkSession, DataFrame, functions as f\n",
    "from typing import Dict"
   ]
  },
  {
   "cell_type": "code",
   "execution_count": 2,
   "metadata": {},
   "outputs": [],
   "source": [
    "def create_spark_session() -> None:\n",
    "    \"\"\"\n",
    "    Placeholder function to create the spark session for a run.\n",
    "\n",
    "    \"\"\"\n",
    "    SparkSession.builder.config(\"spark.driver.memory\", \"16g\").config(\n",
    "        \"spark.executor.memory\", \"16g\"\n",
    "    ).config(\"spark.driver.maxResultSize\", \"8g\").master(\"local[*]\").config(\n",
    "        \"spark.hadoop.fs.s3a.impl\", \"org.apache.hadoop.fs.s3a.S3AFileSystem\"\n",
    "    ).config(\n",
    "        \"spark.jars.packages\", \"org.apache.hadoop:hadoop-aws:3.1.1,com.crealytics:spark-excel_2.11:0.11.1\"\n",
    "    ).config(\n",
    "        \"fs.s3a.access.key\", \"\"\n",
    "    ).config(\n",
    "        \"fs.s3a.secret.key\", \"\"\n",
    "    ).config(\n",
    "        \"fs.s3a.maxConnections\", \"5000\"\n",
    "    ).config(\n",
    "        \"spark.sql.execution.arrow.enabled\", \"true\"\n",
    "    ).config(\n",
    "        \"spark.debug.maxToStringFields\", \"100\"\n",
    "    ).config(\n",
    "        \"fs.s3a.connection.maximum\", \"5000\"\n",
    "    ).config(\n",
    "        \"spark.sql.shuffle.partitions\", \"8\"\n",
    "    ).config(\n",
    "        \"spark.sql.codegen.wholeStage\", \"false\"\n",
    "    ).appName(\n",
    "        \"comm-analytics\"\n",
    "    ).getOrCreate()"
   ]
  },
  {
   "cell_type": "code",
   "execution_count": 3,
   "metadata": {},
   "outputs": [],
   "source": [
    "create_spark_session()\n",
    "spark = SparkSession.builder.getOrCreate()"
   ]
  },
  {
   "cell_type": "code",
   "execution_count": 4,
   "metadata": {},
   "outputs": [],
   "source": [
    "from pyspark.sql.types import StringType, DateType, StructField, StructType, IntegerType, DoubleType"
   ]
  },
  {
   "cell_type": "code",
   "execution_count": null,
   "metadata": {},
   "outputs": [],
   "source": [
    "data = [\n",
    "        [\"WDEM04144542\", \"event\", \"2017-01-25\"],\n",
    "        [\"WDEM04144542\", \"call\", \"2017-01-26\"],\n",
    "        [\"WDEM04144542\", \"call\", \"2017-01-27\"],\n",
    "        [\"WDEM04144542\", \"event\", \"2017-01-28\"],\n",
    "        [\"WDEM04144542\", \"call\", \"2017-02-07\"],\n",
    "        [\"WDEM04144542\", \"call\", \"2017-02-12\"],\n",
    "        [\"WDEM04144542\", \"event\", \"2017-02-15\"],\n",
    "        [\"WDEM04144542\", \"event\", \"2017-02-20\"],\n",
    "        [\"WDEM04144542\", \"call\", \"2017-02-26\"],\n",
    "        [\"WDEM04144542\", \"call\", \"2017-03-19\"],\n",
    "        [\"WDEM04144542\", \"call\", \"2017-03-26\"]\n",
    "    ]\n",
    "\n",
    "schema = StructType(\n",
    "    [\n",
    "        StructField(\"external_id\", StringType()),\n",
    "        StructField(\"activity\", StringType()),\n",
    "        StructField(\"date\", StringType())\n",
    "    ]\n",
    ")\n",
    "\n",
    "df_data = spark.createDataFrame(data, schema=schema)"
   ]
  },
  {
   "cell_type": "code",
   "execution_count": null,
   "metadata": {},
   "outputs": [],
   "source": [
    "formatted_dates = df_data.withColumn(\n",
    "        \"date\", f.to_date(f.col(\"date\"), \"yyyy-MM-dd\")\n",
    "    )"
   ]
  },
  {
   "cell_type": "code",
   "execution_count": null,
   "metadata": {},
   "outputs": [],
   "source": [
    "with_month = formatted_dates.withColumn(\"month\", f.last_day(f.col(\"date\")))"
   ]
  },
  {
   "cell_type": "code",
   "execution_count": null,
   "metadata": {},
   "outputs": [],
   "source": [
    "with_month.show()"
   ]
  },
  {
   "cell_type": "code",
   "execution_count": null,
   "metadata": {},
   "outputs": [],
   "source": [
    "with_month = with_month.drop(\"month\")"
   ]
  },
  {
   "cell_type": "code",
   "execution_count": null,
   "metadata": {},
   "outputs": [],
   "source": [
    "with_month.createOrReplaceTempView(\"df\")"
   ]
  },
  {
   "cell_type": "code",
   "execution_count": null,
   "metadata": {},
   "outputs": [],
   "source": [
    "spark.sql(\n",
    "\"\"\"\n",
    "SELECT A.external_id, A.activity, A.date,\n",
    "CASE\n",
    "WHEN A.activity = 'event' THEN NULL\n",
    "ELSE (SELECT first(b.date) WHERE b.date < a.date)\n",
    "END as last_event_date\n",
    "FROM df A INNER JOIN df B on a.external_id = b.external_id\n",
    "\"\"\").distinct().show()"
   ]
  },
  {
   "cell_type": "code",
   "execution_count": null,
   "metadata": {},
   "outputs": [],
   "source": [
    "data = [\n",
    "        [\"WDEM04144542\", \"event\", \"2017-02-20\"],\n",
    "        [\"WDEM04144542\", \"call\", \"2017-02-26\"],\n",
    "        [\"WDEM04144542\", \"call\", \"2017-03-19\"],\n",
    "        [\"WDEM04144542\", \"call\", \"2017-03-26\"]\n",
    "    ]\n",
    "\n",
    "schema = StructType(\n",
    "    [\n",
    "        StructField(\"external_id\", StringType()),\n",
    "        StructField(\"activity\", StringType()),\n",
    "        StructField(\"date\", StringType())\n",
    "    ]\n",
    ")\n",
    "\n",
    "df = spark.createDataFrame(data, schema=schema)"
   ]
  },
  {
   "cell_type": "code",
   "execution_count": null,
   "metadata": {},
   "outputs": [],
   "source": [
    "test = df.alias('df1').join(\n",
    "        df.alias('df2'), how=\"inner\", on=[\"external_id\"]\n",
    "    ).select('df1.*', f.col(\"df2.date\").alias(\"last_event_date\"))"
   ]
  },
  {
   "cell_type": "code",
   "execution_count": null,
   "metadata": {},
   "outputs": [],
   "source": [
    "test1 = test.filter('activity <> \"event\" and last_event_date < date')"
   ]
  },
  {
   "cell_type": "code",
   "execution_count": null,
   "metadata": {},
   "outputs": [],
   "source": [
    "test1.show()"
   ]
  },
  {
   "cell_type": "code",
   "execution_count": null,
   "metadata": {},
   "outputs": [],
   "source": [
    "test1.groupBy('external_id', 'activity', 'date').agg(f.first(\"last_event_date\")).show()"
   ]
  },
  {
   "cell_type": "code",
   "execution_count": null,
   "metadata": {},
   "outputs": [],
   "source": [
    "data = [\n",
    "        [\"WDEM04144542\", \"event\", \"2017-01-25\"],\n",
    "        [\"WDEM04144542\", \"call\", \"2017-01-26\"],\n",
    "        [\"WDEM04144542\", \"call\", \"2017-01-27\"],\n",
    "        [\"WDEM04144542\", \"event\", \"2017-01-28\"],\n",
    "        [\"WDEM04144542\", \"call\", \"2017-02-07\"],\n",
    "        [\"WDEM04144542\", \"call\", \"2017-02-12\"],\n",
    "        [\"WDEM04144542\", \"event\", \"2017-02-15\"],\n",
    "        [\"WDEM04144542\", \"event\", \"2017-02-20\"],\n",
    "        [\"WDEM04144542\", \"call\", \"2017-02-26\"],\n",
    "        [\"WDEM04144542\", \"call\", \"2017-03-19\"],\n",
    "        [\"WDEM04144542\", \"call\", \"2017-03-26\"]\n",
    "    ]\n",
    "\n",
    "schema = StructType(\n",
    "    [\n",
    "        StructField(\"external_id\", StringType()),\n",
    "        StructField(\"activity\", StringType()),\n",
    "        StructField(\"date\", StringType())\n",
    "    ]\n",
    ")\n",
    "\n",
    "df = spark.createDataFrame(data, schema=schema)"
   ]
  },
  {
   "cell_type": "code",
   "execution_count": null,
   "metadata": {},
   "outputs": [],
   "source": [
    "test = df.alias('df1').join(\n",
    "        df.alias('df2'), how=\"inner\", on=[\"external_id\"]\n",
    "    ).select('df1.*', f.col(\"df2.date\").alias(\"last_event_date\"))"
   ]
  },
  {
   "cell_type": "code",
   "execution_count": null,
   "metadata": {},
   "outputs": [],
   "source": [
    "test.show(1000, False)"
   ]
  },
  {
   "cell_type": "code",
   "execution_count": null,
   "metadata": {},
   "outputs": [],
   "source": [
    "test.groupBy('external_id', 'activity', 'date').agg(f.last(\"last_event_date\").alias(\"last_event_date\")).show()"
   ]
  },
  {
   "cell_type": "code",
   "execution_count": 5,
   "metadata": {},
   "outputs": [],
   "source": [
    "data = [\n",
    "        [\"WDEM04144542\", \"2017-01-25\"],        \n",
    "        [\"WDEM04144542\", \"2017-01-28\"],        \n",
    "        [\"WDEM04144542\", \"2017-02-15\"],\n",
    "        [\"WDEM04144542\", \"2017-02-20\"],\n",
    "        \n",
    "    ]\n",
    "\n",
    "schema = StructType(\n",
    "    [\n",
    "        StructField(\"external_id\", StringType()),        \n",
    "        StructField(\"event_date\", StringType())\n",
    "    ]\n",
    ")\n",
    "\n",
    "df_event = spark.createDataFrame(data, schema=schema)"
   ]
  },
  {
   "cell_type": "code",
   "execution_count": 6,
   "metadata": {},
   "outputs": [],
   "source": [
    "data = [        \n",
    "        [\"WDEM04144542\", \"2017-01-26\"],\n",
    "        [\"WDEM04144542\", \"2017-01-27\"],        \n",
    "        [\"WDEM04144542\", \"2017-02-07\"],\n",
    "        [\"WDEM04144542\", \"2017-02-12\"],        \n",
    "        [\"WDEM04144542\", \"2017-02-26\"],\n",
    "        [\"WDEM04144542\", \"2017-03-19\"],\n",
    "        [\"WDEM04144542\", \"2017-03-26\"]\n",
    "    ]\n",
    "\n",
    "schema = StructType(\n",
    "    [\n",
    "        StructField(\"external_id\", StringType()),       \n",
    "        StructField(\"call_date\", StringType())\n",
    "    ]\n",
    ")\n",
    "\n",
    "df_call = spark.createDataFrame(data, schema=schema)"
   ]
  },
  {
   "cell_type": "code",
   "execution_count": 10,
   "metadata": {},
   "outputs": [],
   "source": [
    "test = df_call.alias('df1').join(\n",
    "        df_event.alias('df2'), how=\"left\", on=[\"external_id\"]\n",
    "    ).select('df1.*', f.col(\"df2.event_date\").alias(\"last_event_date\"))"
   ]
  },
  {
   "cell_type": "code",
   "execution_count": 11,
   "metadata": {},
   "outputs": [
    {
     "data": {
      "text/plain": [
       "28"
      ]
     },
     "execution_count": 11,
     "metadata": {},
     "output_type": "execute_result"
    }
   ],
   "source": [
    "test.count()"
   ]
  },
  {
   "cell_type": "code",
   "execution_count": 12,
   "metadata": {},
   "outputs": [
    {
     "name": "stdout",
     "output_type": "stream",
     "text": [
      "+------------+----------+---------------+\n",
      "| external_id| call_date|last_event_date|\n",
      "+------------+----------+---------------+\n",
      "|WDEM04144542|2017-01-26|     2017-01-25|\n",
      "|WDEM04144542|2017-01-26|     2017-01-28|\n",
      "|WDEM04144542|2017-01-26|     2017-02-15|\n",
      "|WDEM04144542|2017-01-26|     2017-02-20|\n",
      "|WDEM04144542|2017-01-27|     2017-01-25|\n",
      "|WDEM04144542|2017-01-27|     2017-01-28|\n",
      "|WDEM04144542|2017-01-27|     2017-02-15|\n",
      "|WDEM04144542|2017-01-27|     2017-02-20|\n",
      "|WDEM04144542|2017-02-07|     2017-01-25|\n",
      "|WDEM04144542|2017-02-07|     2017-01-28|\n",
      "|WDEM04144542|2017-02-07|     2017-02-15|\n",
      "|WDEM04144542|2017-02-07|     2017-02-20|\n",
      "|WDEM04144542|2017-02-12|     2017-01-25|\n",
      "|WDEM04144542|2017-02-12|     2017-01-28|\n",
      "|WDEM04144542|2017-02-12|     2017-02-15|\n",
      "|WDEM04144542|2017-02-12|     2017-02-20|\n",
      "|WDEM04144542|2017-02-26|     2017-01-25|\n",
      "|WDEM04144542|2017-02-26|     2017-01-28|\n",
      "|WDEM04144542|2017-02-26|     2017-02-15|\n",
      "|WDEM04144542|2017-02-26|     2017-02-20|\n",
      "+------------+----------+---------------+\n",
      "only showing top 20 rows\n",
      "\n"
     ]
    }
   ],
   "source": [
    "test.show()"
   ]
  },
  {
   "cell_type": "code",
   "execution_count": 13,
   "metadata": {},
   "outputs": [],
   "source": [
    "test1 = test.filter('last_event_date <= call_date')"
   ]
  },
  {
   "cell_type": "code",
   "execution_count": 14,
   "metadata": {},
   "outputs": [
    {
     "name": "stdout",
     "output_type": "stream",
     "text": [
      "+------------+----------+---------------+\n",
      "| external_id| call_date|last_event_date|\n",
      "+------------+----------+---------------+\n",
      "|WDEM04144542|2017-01-26|     2017-01-25|\n",
      "|WDEM04144542|2017-01-27|     2017-01-25|\n",
      "|WDEM04144542|2017-02-07|     2017-01-25|\n",
      "|WDEM04144542|2017-02-07|     2017-01-28|\n",
      "|WDEM04144542|2017-02-12|     2017-01-25|\n",
      "|WDEM04144542|2017-02-12|     2017-01-28|\n",
      "|WDEM04144542|2017-02-26|     2017-01-25|\n",
      "|WDEM04144542|2017-02-26|     2017-01-28|\n",
      "|WDEM04144542|2017-02-26|     2017-02-15|\n",
      "|WDEM04144542|2017-02-26|     2017-02-20|\n",
      "|WDEM04144542|2017-03-19|     2017-01-25|\n",
      "|WDEM04144542|2017-03-19|     2017-01-28|\n",
      "|WDEM04144542|2017-03-19|     2017-02-15|\n",
      "|WDEM04144542|2017-03-19|     2017-02-20|\n",
      "|WDEM04144542|2017-03-26|     2017-01-25|\n",
      "|WDEM04144542|2017-03-26|     2017-01-28|\n",
      "|WDEM04144542|2017-03-26|     2017-02-15|\n",
      "|WDEM04144542|2017-03-26|     2017-02-20|\n",
      "+------------+----------+---------------+\n",
      "\n"
     ]
    }
   ],
   "source": [
    "test1.show()"
   ]
  },
  {
   "cell_type": "code",
   "execution_count": 15,
   "metadata": {},
   "outputs": [],
   "source": [
    "test2 = test1.groupBy('external_id', 'call_date').agg(f.last(\"last_event_date\").alias(\"last_event_date\"))"
   ]
  },
  {
   "cell_type": "code",
   "execution_count": 16,
   "metadata": {},
   "outputs": [
    {
     "name": "stdout",
     "output_type": "stream",
     "text": [
      "+------------+----------+---------------+\n",
      "| external_id| call_date|last_event_date|\n",
      "+------------+----------+---------------+\n",
      "|WDEM04144542|2017-01-26|     2017-01-25|\n",
      "|WDEM04144542|2017-01-27|     2017-01-25|\n",
      "|WDEM04144542|2017-02-07|     2017-01-28|\n",
      "|WDEM04144542|2017-02-12|     2017-01-28|\n",
      "|WDEM04144542|2017-02-26|     2017-02-20|\n",
      "|WDEM04144542|2017-03-19|     2017-02-20|\n",
      "|WDEM04144542|2017-03-26|     2017-02-20|\n",
      "+------------+----------+---------------+\n",
      "\n"
     ]
    }
   ],
   "source": [
    "test2.show()"
   ]
  },
  {
   "cell_type": "code",
   "execution_count": 38,
   "metadata": {},
   "outputs": [],
   "source": [
    "test3 = test2\\\n",
    "            .withColumn(\"days_diff\", f.datediff(test2.call_date, test2.last_event_date))\\\n",
    "            .withColumn(\"month\", f.last_day(f.col(\"call_date\")))\\\n",
    "            .select('external_id', 'month', 'days_diff', 'call_date', 'last_event_date')"
   ]
  },
  {
   "cell_type": "code",
   "execution_count": 39,
   "metadata": {},
   "outputs": [
    {
     "name": "stdout",
     "output_type": "stream",
     "text": [
      "+------------+----------+---------+----------+---------------+\n",
      "| external_id|     month|days_diff| call_date|last_event_date|\n",
      "+------------+----------+---------+----------+---------------+\n",
      "|WDEM04144542|2017-01-31|        1|2017-01-26|     2017-01-25|\n",
      "|WDEM04144542|2017-01-31|        2|2017-01-27|     2017-01-25|\n",
      "|WDEM04144542|2017-02-28|       10|2017-02-07|     2017-01-28|\n",
      "|WDEM04144542|2017-02-28|       15|2017-02-12|     2017-01-28|\n",
      "|WDEM04144542|2017-02-28|        6|2017-02-26|     2017-02-20|\n",
      "|WDEM04144542|2017-03-31|       27|2017-03-19|     2017-02-20|\n",
      "|WDEM04144542|2017-03-31|       34|2017-03-26|     2017-02-20|\n",
      "+------------+----------+---------+----------+---------------+\n",
      "\n"
     ]
    }
   ],
   "source": [
    "test3.show()"
   ]
  },
  {
   "cell_type": "code",
   "execution_count": 33,
   "metadata": {},
   "outputs": [],
   "source": [
    "# test4 = test3.select('external_id', 'month', 'days_diff')"
   ]
  },
  {
   "cell_type": "code",
   "execution_count": 34,
   "metadata": {},
   "outputs": [
    {
     "name": "stdout",
     "output_type": "stream",
     "text": [
      "+------------+----------+---------+\n",
      "| external_id|     month|days_diff|\n",
      "+------------+----------+---------+\n",
      "|WDEM04144542|2017-01-31|        1|\n",
      "|WDEM04144542|2017-01-31|        2|\n",
      "|WDEM04144542|2017-02-28|       10|\n",
      "|WDEM04144542|2017-02-28|       15|\n",
      "|WDEM04144542|2017-02-28|        6|\n",
      "|WDEM04144542|2017-03-31|       27|\n",
      "|WDEM04144542|2017-03-31|       34|\n",
      "+------------+----------+---------+\n",
      "\n"
     ]
    }
   ],
   "source": [
    "# test4.show()"
   ]
  },
  {
   "cell_type": "code",
   "execution_count": 42,
   "metadata": {},
   "outputs": [
    {
     "name": "stdout",
     "output_type": "stream",
     "text": [
      "+------------+----------+-----+\n",
      "| external_id|     month|count|\n",
      "+------------+----------+-----+\n",
      "|WDEM04144542|2017-01-31|    2|\n",
      "|WDEM04144542|2017-02-28|    3|\n",
      "|WDEM04144542|2017-03-31|    1|\n",
      "+------------+----------+-----+\n",
      "\n"
     ]
    }
   ],
   "source": [
    "test3.filter(f.datediff(test3.call_date, test3.last_event_date) <= 30)\\\n",
    "        .groupby(test3.external_id, test3.month).count().show()"
   ]
  },
  {
   "cell_type": "code",
   "execution_count": 88,
   "metadata": {},
   "outputs": [],
   "source": [
    "def calculate_feature(df, feature_name):\n",
    "    return df.filter(f.datediff(df.call_date, df.last_event_date) <= 30)\\\n",
    "        .groupby(df.external_id, df.month)\\\n",
    "        .count()\\\n",
    "        .withColumnRenamed(\"count\", feature_name)\\\n",
    "        .withColumnRenamed(\"external_id\", \"ext_id\")\\\n",
    "        .withColumnRenamed(\"month\", \"mnth\")\n",
    "\n",
    "\n",
    "def calculate_last_event_date(df_call, df_event):\n",
    "    return df_call.alias(\"a\")\\\n",
    "        .join(df_event.alias(\"b\"), how=\"left\", on=[\"external_id\"])\\\n",
    "        .select(\"a.*\", f.col(\"b.event_date\").alias(\"last_event_date\"))\\\n",
    "        .filter(\"last_event_date <= call_date\")\\\n",
    "        .groupBy(\"external_id\", \"call_date\")\\\n",
    "        .agg(f.last(\"last_event_date\").alias(\"last_event_date\"))\\\n",
    "        .withColumn(\"month\", f.last_day(f.col(\"call_date\")))\\\n",
    "        .select(\"external_id\", \"month\", \"call_date\", \"last_event_date\")"
   ]
  },
  {
   "cell_type": "markdown",
   "metadata": {},
   "source": [
    "Testing"
   ]
  },
  {
   "cell_type": "code",
   "execution_count": 93,
   "metadata": {},
   "outputs": [],
   "source": [
    "data = [\n",
    "        [\"1\", \"2017-01-25\", \"Attended\", \"AAA\"],\n",
    "        [\"1\", \"2017-01-28\", \"Attended\", \"BBB\"],\n",
    "        [\"1\", \"2017-02-15\", \"Attended\", \"CCC\"],\n",
    "        [\"1\", \"2017-02-20\", \"Attended\", \"DDD\"],\n",
    "    ]\n",
    "\n",
    "schema = StructType(\n",
    "    [\n",
    "        StructField(\"external_id\", StringType()),\n",
    "        StructField(\"date\", StringType()),\n",
    "        StructField(\"status\", StringType()),\n",
    "        StructField(\"event_id\", StringType()),\n",
    "    ]\n",
    ")\n",
    "\n",
    "df_event = spark.createDataFrame(data, schema=schema)\\\n",
    "            .withColumn(\"date\", f.to_date(f.col(\"date\"), \"yyyy-MM-dd\"))\\\n",
    "            .withColumn(\"month\", f.last_day(f.col(\"date\")))"
   ]
  },
  {
   "cell_type": "code",
   "execution_count": 94,
   "metadata": {},
   "outputs": [
    {
     "name": "stdout",
     "output_type": "stream",
     "text": [
      "+-----------+----------+--------+--------+----------+\n",
      "|external_id|      date|  status|event_id|     month|\n",
      "+-----------+----------+--------+--------+----------+\n",
      "|          1|2017-01-25|Attended|     AAA|2017-01-31|\n",
      "|          1|2017-01-28|Attended|     BBB|2017-01-31|\n",
      "|          1|2017-02-15|Attended|     CCC|2017-02-28|\n",
      "|          1|2017-02-20|Attended|     DDD|2017-02-28|\n",
      "+-----------+----------+--------+--------+----------+\n",
      "\n"
     ]
    }
   ],
   "source": [
    "df_event.show()"
   ]
  },
  {
   "cell_type": "code",
   "execution_count": 83,
   "metadata": {},
   "outputs": [],
   "source": [
    "data = [\n",
    "        [\"1\", \"2017-01-26\", \"VIMPAT\", \"Face to Face\"],\n",
    "        [\"1\", \"2017-01-27\", \"VIMPAT\", \"Face to Face\"],\n",
    "        [\"1\", \"2017-02-07\", \"VIMPAT\", \"Face to Face\"],\n",
    "        [\"1\", \"2017-02-12\", \"VIMPAT\", \"Face to Face\"],\n",
    "        [\"1\", \"2017-02-26\", \"VIMPAT\", \"Face to Face\"],\n",
    "        [\"1\", \"2017-03-19\", \"VIMPAT\", \"Face to Face\"],\n",
    "        [\"1\", \"2017-03-26\", \"VIMPAT\", \"Face to Face\"],\n",
    "    ]\n",
    "\n",
    "schema = StructType(\n",
    "    [\n",
    "        StructField(\"external_id\", StringType()),\n",
    "        StructField(\"date\", StringType()),\n",
    "        StructField(\"product_category\", StringType()),\n",
    "        StructField(\"channel\", StringType()),\n",
    "    ]\n",
    ")\n",
    "\n",
    "df_call = spark.createDataFrame(data, schema=schema)\\\n",
    "                .withColumn(\"date\", f.to_date(f.col(\"date\"), \"yyyy-MM-dd\"))"
   ]
  },
  {
   "cell_type": "code",
   "execution_count": 84,
   "metadata": {},
   "outputs": [
    {
     "name": "stdout",
     "output_type": "stream",
     "text": [
      "+-----------+----------+----------------+------------+\n",
      "|external_id|      date|product_category|     channel|\n",
      "+-----------+----------+----------------+------------+\n",
      "|          1|2017-01-26|          VIMPAT|Face to Face|\n",
      "|          1|2017-01-27|          VIMPAT|Face to Face|\n",
      "|          1|2017-02-07|          VIMPAT|Face to Face|\n",
      "|          1|2017-02-12|          VIMPAT|Face to Face|\n",
      "|          1|2017-02-26|          VIMPAT|Face to Face|\n",
      "|          1|2017-03-19|          VIMPAT|Face to Face|\n",
      "|          1|2017-03-26|          VIMPAT|Face to Face|\n",
      "+-----------+----------+----------------+------------+\n",
      "\n"
     ]
    }
   ],
   "source": [
    "df_call.show()"
   ]
  },
  {
   "cell_type": "code",
   "execution_count": 85,
   "metadata": {},
   "outputs": [],
   "source": [
    "data = [[\"1\", \"2017-01-31\"], [\"1\", \"2017-02-28\"], [\"1\", \"2017-03-31\"]]\n",
    "\n",
    "schema = StructType(\n",
    "    [StructField(\"external_id\", StringType()), StructField(\"month\", StringType())]\n",
    ")\n",
    "\n",
    "df_spine = spark.createDataFrame(data, schema=schema).withColumn(\"month\", f.to_date(f.col(\"month\"), \"yyyy-MM-dd\"))\n"
   ]
  },
  {
   "cell_type": "code",
   "execution_count": 87,
   "metadata": {},
   "outputs": [
    {
     "name": "stdout",
     "output_type": "stream",
     "text": [
      "+-----------+----------+\n",
      "|external_id|     month|\n",
      "+-----------+----------+\n",
      "|          1|2017-01-31|\n",
      "|          1|2017-02-28|\n",
      "|          1|2017-03-31|\n",
      "+-----------+----------+\n",
      "\n"
     ]
    }
   ],
   "source": [
    "df_spine.show()"
   ]
  },
  {
   "cell_type": "code",
   "execution_count": 62,
   "metadata": {},
   "outputs": [
    {
     "name": "stdout",
     "output_type": "stream",
     "text": [
      "+------------+----------+\n",
      "| external_id|event_date|\n",
      "+------------+----------+\n",
      "|WDEM04144542|2017-01-25|\n",
      "|WDEM04144542|2017-01-28|\n",
      "|WDEM04144542|2017-02-15|\n",
      "|WDEM04144542|2017-02-20|\n",
      "+------------+----------+\n",
      "\n"
     ]
    }
   ],
   "source": []
  },
  {
   "cell_type": "code",
   "execution_count": 63,
   "metadata": {},
   "outputs": [],
   "source": [
    "vimpat_calls_within_30days = (\n",
    "        vimpat_calls.alias(\"a\")\n",
    "        .join(events.alias(\"b\"), how=\"left\", on=[\"external_id\"])\n",
    "        .select(\"a.*\", f.col(\"b.event_date\").alias(\"last_event_date\"))\n",
    "        .filter(\"last_event_date <= call_date\")\n",
    "        .groupBy(\"external_id\", \"call_date\")\n",
    "        .agg(f.last(\"last_event_date\").alias(\"last_event_date\"))\n",
    "        .withColumn(\"month\", f.last_day(f.col(\"call_date\")))\n",
    "        .select(\"external_id\", \"month\", \"call_date\", \"last_event_date\")\n",
    "    )"
   ]
  },
  {
   "cell_type": "code",
   "execution_count": 64,
   "metadata": {},
   "outputs": [
    {
     "name": "stdout",
     "output_type": "stream",
     "text": [
      "+------------+----------+----------+---------------+\n",
      "| external_id|     month| call_date|last_event_date|\n",
      "+------------+----------+----------+---------------+\n",
      "|WDEM04144542|2017-01-31|2017-01-26|     2017-01-25|\n",
      "|WDEM04144542|2017-01-31|2017-01-27|     2017-01-25|\n",
      "|WDEM04144542|2017-02-28|2017-02-07|     2017-01-28|\n",
      "|WDEM04144542|2017-02-28|2017-02-12|     2017-01-28|\n",
      "|WDEM04144542|2017-02-28|2017-02-26|     2017-02-20|\n",
      "|WDEM04144542|2017-03-31|2017-03-19|     2017-02-20|\n",
      "|WDEM04144542|2017-03-31|2017-03-26|     2017-02-20|\n",
      "+------------+----------+----------+---------------+\n",
      "\n"
     ]
    }
   ],
   "source": [
    "vimpat_calls_within_30days.show()"
   ]
  },
  {
   "cell_type": "code",
   "execution_count": 65,
   "metadata": {},
   "outputs": [],
   "source": [
    "vimpat_calls_within_30days = (\n",
    "        vimpat_calls_within_30days.filter(\n",
    "            f.datediff(\n",
    "                vimpat_calls_within_30days.call_date,\n",
    "                vimpat_calls_within_30days.last_event_date,\n",
    "            )\n",
    "            <= 30\n",
    "        )\n",
    "        .groupby(\n",
    "            vimpat_calls_within_30days.external_id, vimpat_calls_within_30days.month\n",
    "        )\n",
    "        .count()\n",
    "        .withColumnRenamed(\"count\", \"feature_vimpat_f2f_call_30days_after_event\")\n",
    "        .withColumnRenamed(\"external_id\", \"ext_id\")\n",
    "        .withColumnRenamed(\"month\", \"mnth\")\n",
    "    )"
   ]
  },
  {
   "cell_type": "code",
   "execution_count": 66,
   "metadata": {},
   "outputs": [
    {
     "name": "stdout",
     "output_type": "stream",
     "text": [
      "+------------+----------+------------------------------------------+\n",
      "|      ext_id|      mnth|feature_vimpat_f2f_call_30days_after_event|\n",
      "+------------+----------+------------------------------------------+\n",
      "|WDEM04144542|2017-01-31|                                         2|\n",
      "|WDEM04144542|2017-02-28|                                         3|\n",
      "|WDEM04144542|2017-03-31|                                         1|\n",
      "+------------+----------+------------------------------------------+\n",
      "\n"
     ]
    }
   ],
   "source": [
    "vimpat_calls_within_30days.show()"
   ]
  },
  {
   "cell_type": "code",
   "execution_count": 97,
   "metadata": {},
   "outputs": [],
   "source": [
    "spine_events = (\n",
    "        df_spine.join(\n",
    "            df_event,\n",
    "            how=\"left\",\n",
    "            on=[\"external_id\", \"month\"]\n",
    "        )\n",
    "        .fillna(0)        \n",
    "    )"
   ]
  },
  {
   "cell_type": "code",
   "execution_count": 98,
   "metadata": {},
   "outputs": [
    {
     "name": "stdout",
     "output_type": "stream",
     "text": [
      "+-----------+----------+----------+--------+--------+\n",
      "|external_id|     month|      date|  status|event_id|\n",
      "+-----------+----------+----------+--------+--------+\n",
      "|          1|2017-01-31|2017-01-25|Attended|     AAA|\n",
      "|          1|2017-01-31|2017-01-28|Attended|     BBB|\n",
      "|          1|2017-02-28|2017-02-15|Attended|     CCC|\n",
      "|          1|2017-02-28|2017-02-20|Attended|     DDD|\n",
      "|          1|2017-03-31|      null|    null|    null|\n",
      "+-----------+----------+----------+--------+--------+\n",
      "\n"
     ]
    }
   ],
   "source": [
    "spine_events.show()"
   ]
  },
  {
   "cell_type": "code",
   "execution_count": null,
   "metadata": {},
   "outputs": [],
   "source": []
  }
 ],
 "metadata": {
  "kernelspec": {
   "display_name": "Python 3",
   "language": "python",
   "name": "python3"
  },
  "language_info": {
   "codemirror_mode": {
    "name": "ipython",
    "version": 3
   },
   "file_extension": ".py",
   "mimetype": "text/x-python",
   "name": "python",
   "nbconvert_exporter": "python",
   "pygments_lexer": "ipython3",
   "version": "3.6.8"
  }
 },
 "nbformat": 4,
 "nbformat_minor": 2
}
