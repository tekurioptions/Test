{
 "cells": [
  {
   "cell_type": "code",
   "execution_count": 1,
   "metadata": {},
   "outputs": [],
   "source": [
    "import pyspark\n",
    "from pyspark.sql import functions as f, Window\n",
    "import pandas as pd\n",
    "from kedro.pipeline import *\n",
    "from kedro.io import *\n",
    "from kedro.runner import *\n",
    "\n",
    "import pickle\n",
    "import os\n",
    "from pyspark.sql import SparkSession, DataFrame, functions as f\n",
    "from typing import Dict"
   ]
  },
  {
   "cell_type": "code",
   "execution_count": 2,
   "metadata": {},
   "outputs": [],
   "source": [
    "def create_spark_session() -> None:\n",
    "    \"\"\"\n",
    "    Placeholder function to create the spark session for a run.\n",
    "\n",
    "    \"\"\"\n",
    "    SparkSession.builder.config(\"spark.driver.memory\", \"16g\").config(\n",
    "        \"spark.executor.memory\", \"16g\"\n",
    "    ).config(\"spark.driver.maxResultSize\", \"8g\").master(\"local[*]\").config(\n",
    "        \"spark.hadoop.fs.s3a.impl\", \"org.apache.hadoop.fs.s3a.S3AFileSystem\"\n",
    "    ).config(\n",
    "        \"spark.jars.packages\", \"org.apache.hadoop:hadoop-aws:3.1.1,com.crealytics:spark-excel_2.11:0.11.1\"\n",
    "    ).config(\n",
    "        \"fs.s3a.access.key\", \"\"\n",
    "    ).config(\n",
    "        \"fs.s3a.secret.key\", \"\"\n",
    "    ).config(\n",
    "        \"fs.s3a.maxConnections\", \"5000\"\n",
    "    ).config(\n",
    "        \"spark.sql.execution.arrow.enabled\", \"true\"\n",
    "    ).config(\n",
    "        \"spark.debug.maxToStringFields\", \"100\"\n",
    "    ).config(\n",
    "        \"fs.s3a.connection.maximum\", \"5000\"\n",
    "    ).config(\n",
    "        \"spark.sql.shuffle.partitions\", \"8\"\n",
    "    ).config(\n",
    "        \"spark.sql.codegen.wholeStage\", \"false\"\n",
    "    ).appName(\n",
    "        \"comm-analytics\"\n",
    "    ).getOrCreate()"
   ]
  },
  {
   "cell_type": "code",
   "execution_count": 3,
   "metadata": {},
   "outputs": [],
   "source": [
    "create_spark_session()\n",
    "spark = SparkSession.builder.getOrCreate()"
   ]
  },
  {
   "cell_type": "code",
   "execution_count": 4,
   "metadata": {},
   "outputs": [],
   "source": [
    "def load_orbit_df(path):\n",
    "    bucket = \"s3a://ucb-qb-ca-eu-west-1-data/npvu-de-data/physician_model\"\n",
    "    return spark.read.csv(path.format(bucket=bucket), header=True, inferSchema=True, sep=';')"
   ]
  },
  {
   "cell_type": "code",
   "execution_count": 5,
   "metadata": {},
   "outputs": [],
   "source": [
    "raw_orbit_calls_market_access = load_orbit_df('{bucket}/raw/Orbit data/Activity data/Calls/Calls_Market Access.csv')"
   ]
  },
  {
   "cell_type": "code",
   "execution_count": 6,
   "metadata": {},
   "outputs": [],
   "source": [
    "raw_orbit_calls_sales_medical = load_orbit_df('{bucket}/raw/Orbit data/Activity data/Calls/Calls_Sales + Medical.csv')"
   ]
  },
  {
   "cell_type": "code",
   "execution_count": 26,
   "metadata": {},
   "outputs": [
    {
     "name": "stdout",
     "output_type": "stream",
     "text": [
      "root\n",
      " |-- Call ID: string (nullable = true)\n",
      " |-- SFDC18 ID: string (nullable = true)\n",
      " |-- Call Name: string (nullable = true)\n",
      " |-- Date: string (nullable = true)\n",
      " |-- External ID: string (nullable = true)\n",
      " |-- Address: string (nullable = true)\n",
      " |-- City: string (nullable = true)\n",
      " |-- Parent Address: Brick 1: Name: string (nullable = true)\n",
      " |-- Territory: string (nullable = true)\n",
      " |-- Record Type: string (nullable = true)\n",
      " |-- Subtype: string (nullable = true)\n",
      " |-- Channel: string (nullable = true)\n",
      " |-- Status: string (nullable = true)\n",
      " |-- Detail Priority: integer (nullable = true)\n",
      " |-- Product: Product Name: string (nullable = true)\n",
      " |-- Current 4i: string (nullable = true)\n",
      " |-- Current Potential: string (nullable = true)\n",
      "\n"
     ]
    }
   ],
   "source": [
    "raw_orbit_calls_market_access.printSchema()"
   ]
  },
  {
   "cell_type": "code",
   "execution_count": 7,
   "metadata": {},
   "outputs": [],
   "source": [
    "def prm_crm_call(\n",
    "    raw_crm_call_sales_medical: DataFrame, raw_crm_call_market_access: DataFrame\n",
    ") -> DataFrame:\n",
    "\n",
    "    medical_renamed = (\n",
    "        raw_crm_call_sales_medical.withColumnRenamed(\"External ID\", \"external_id\")\n",
    "        .withColumnRenamed(\"Call ID\", \"call_id\")\n",
    "        .withColumnRenamed(\"Date\", \"date\")\n",
    "        .withColumnRenamed(\"Channel\", \"channel\")\n",
    "    )\n",
    "\n",
    "    market_renamed = (\n",
    "        raw_crm_call_market_access.withColumnRenamed(\"External ID\", \"external_id\")\n",
    "        .withColumnRenamed(\"Call ID\", \"call_id\")\n",
    "        .withColumnRenamed(\"Date\", \"date\")\n",
    "        .withColumnRenamed(\"Channel\", \"channel\")\n",
    "    )\n",
    "\n",
    "    unioned_calls = (\n",
    "        only_relevant_fields(market_renamed)\n",
    "        .unionByName(only_relevant_fields(medical_renamed))\n",
    "        .distinct()\n",
    "    )\n",
    "\n",
    "    formatted_dates = unioned_calls.withColumn(\n",
    "        \"date\", f.to_date(f.col(\"date\"), \"dd.MM.yyyy\")\n",
    "    )\n",
    "    with_month = formatted_dates.withColumn(\"month\", f.last_day(f.col(\"date\")))\n",
    "\n",
    "    return with_month\n",
    "\n",
    "\n",
    "def only_relevant_fields(df: DataFrame) -> DataFrame:\n",
    "    return df.select(\"external_id\", \"call_id\", \"date\", \"channel\")"
   ]
  },
  {
   "cell_type": "code",
   "execution_count": 27,
   "metadata": {},
   "outputs": [],
   "source": [
    "def prm_crm_call_1(\n",
    "    raw_crm_call_sales_medical: DataFrame, raw_crm_call_market_access: DataFrame\n",
    ") -> DataFrame:\n",
    "\n",
    "    medical_renamed = (\n",
    "        raw_crm_call_sales_medical.withColumnRenamed(\"External ID\", \"external_id\")\n",
    "        .withColumnRenamed(\"City\", \"city\")\n",
    "        .withColumnRenamed(\"Date\", \"date\")\n",
    "        .withColumnRenamed(\"Channel\", \"channel\")\n",
    "    )\n",
    "\n",
    "    market_renamed = (\n",
    "        raw_crm_call_market_access.withColumnRenamed(\"External ID\", \"external_id\")\n",
    "        .withColumnRenamed(\"City\", \"city\")\n",
    "        .withColumnRenamed(\"Date\", \"date\")\n",
    "        .withColumnRenamed(\"Channel\", \"channel\")\n",
    "    )\n",
    "\n",
    "    unioned_calls = (\n",
    "        only_relevant_fields(market_renamed)\n",
    "        .unionByName(only_relevant_fields(medical_renamed))\n",
    "        .distinct()\n",
    "    )\n",
    "\n",
    "    formatted_dates = unioned_calls.withColumn(\n",
    "        \"date\", f.to_date(f.col(\"date\"), \"dd.MM.yyyy\")\n",
    "    )\n",
    "    with_month = formatted_dates.withColumn(\"month\", f.last_day(f.col(\"date\")))\n",
    "\n",
    "    return with_month\n",
    "\n",
    "\n",
    "def only_relevant_fields(df: DataFrame) -> DataFrame:\n",
    "    return df.select(\"external_id\", \"city\", \"date\", \"channel\")"
   ]
  },
  {
   "cell_type": "code",
   "execution_count": 28,
   "metadata": {},
   "outputs": [],
   "source": [
    "prm_crm_call_1 = prm_crm_call_1(raw_orbit_calls_sales_medical, raw_orbit_calls_market_access)"
   ]
  },
  {
   "cell_type": "code",
   "execution_count": 29,
   "metadata": {},
   "outputs": [
    {
     "name": "stdout",
     "output_type": "stream",
     "text": [
      "+------------+-----------------+----------+------------+----------+\n",
      "| external_id|             city|      date|     channel|     month|\n",
      "+------------+-----------------+----------+------------+----------+\n",
      "|WDEM02720311|          Hamburg|2017-08-25|Face to Face|2017-08-31|\n",
      "|WDEA01483719|           Berlin|2017-08-09|Face to Face|2017-08-31|\n",
      "|WDEM05574478|      Hattersheim|2017-08-25|Face to Face|2017-08-31|\n",
      "|WDEM05686284|          Hamburg|2017-08-28|       Phone|2017-08-31|\n",
      "|WDEP00007240|      Schweinfurt|2017-03-09|       Phone|2017-03-31|\n",
      "|WDER00005461|             Kiel|2017-03-09|Face to Face|2017-03-31|\n",
      "|WDEM08768303|Karlsruhe , Baden|2017-03-10|       Phone|2017-03-31|\n",
      "|WDEA00030408|          Dresden|2017-03-03|      E-Mail|2017-03-31|\n",
      "|WDEA01481607|           Berlin|2017-03-16|Face to Face|2017-03-31|\n",
      "|WDEM02442927|          Leipzig|2017-02-10|      E-Mail|2017-02-28|\n",
      "|WDEM07344311|         N�rnberg|2017-02-14|      E-Mail|2017-02-28|\n",
      "|WDEM07344311|         N�rnberg|2017-02-17|      E-Mail|2017-02-28|\n",
      "|WDER00171074|          Dresden|2017-03-17|      E-Mail|2017-03-31|\n",
      "|WDER00312272|      Saarbr�cken|2017-03-17|Face to Face|2017-03-31|\n",
      "|WDEM06753725|        Troisdorf|2017-03-20|Face to Face|2017-03-31|\n",
      "|WDEM04732034|   Klingenm�nster|2017-03-20|Face to Face|2017-03-31|\n",
      "|WDER00050492|          Potsdam|2017-03-22|Face to Face|2017-03-31|\n",
      "|WDEM03984532|       Sch�nebeck|2017-03-23|      E-Mail|2017-03-31|\n",
      "|WDEP00001136|          M�nchen|2017-02-13|       Phone|2017-02-28|\n",
      "|WDEA00008548|         Hannover|2017-03-23|Face to Face|2017-03-31|\n",
      "+------------+-----------------+----------+------------+----------+\n",
      "only showing top 20 rows\n",
      "\n"
     ]
    }
   ],
   "source": [
    "prm_crm_call_1.show(20)"
   ]
  },
  {
   "cell_type": "code",
   "execution_count": 8,
   "metadata": {},
   "outputs": [],
   "source": [
    "prm_crm_call = prm_crm_call(raw_orbit_calls_sales_medical, raw_orbit_calls_market_access)"
   ]
  },
  {
   "cell_type": "code",
   "execution_count": 9,
   "metadata": {},
   "outputs": [
    {
     "name": "stdout",
     "output_type": "stream",
     "text": [
      "+------------+---------------+----------+------------+----------+\n",
      "| external_id|        call_id|      date|     channel|     month|\n",
      "+------------+---------------+----------+------------+----------+\n",
      "|WDEA01480207|a044A00001Drv6t|2017-08-22|Face to Face|2017-08-31|\n",
      "|WDEM06966375|a044A00001Ds2nc|2017-08-24|       Phone|2017-08-31|\n",
      "|WDEM07336892|a044A00001DsFc8|2017-08-25|      E-Mail|2017-08-31|\n",
      "|WDEM08549267|a044A00001DsHmf|2017-08-24|       Phone|2017-08-31|\n",
      "|WDEM00000964|a044A00001DsfnI|2017-08-25|Face to Face|2017-08-31|\n",
      "+------------+---------------+----------+------------+----------+\n",
      "only showing top 5 rows\n",
      "\n"
     ]
    }
   ],
   "source": [
    "prm_crm_call.show(5)"
   ]
  },
  {
   "cell_type": "code",
   "execution_count": 23,
   "metadata": {},
   "outputs": [],
   "source": [
    "def feat_crm_number_of_recent_activity(\n",
    "    prm_crm_call: DataFrame) -> DataFrame:\n",
    "    \n",
    "    filters = ['Face to Face']\n",
    "    filtered_activity = prm_crm_call.where(f.col('channel').isin(filters))\n",
    "    \n",
    "    \n",
    "    calls_per_month = filtered_activity.groupBy(\"month\", \"external_id\").agg(\n",
    "        f.countDistinct(f.col(\"call_id\")).alias(\"num_calls\")\n",
    "    )\n",
    "    \n",
    "    calls_per_month_copy = (\n",
    "        calls_per_month.withColumnRenamed(\"num_calls\", \"calls_copy\")\n",
    "        .withColumnRenamed(\"external_id\", \"id_copy\")\n",
    "        .withColumnRenamed(\"month\", \"month_copy\")\n",
    "    )\n",
    "\n",
    "    unaggregated_calls = calls_per_month.join(\n",
    "        calls_per_month_copy,\n",
    "        how=\"left\",\n",
    "        on=[\n",
    "            calls_per_month.external_id == calls_per_month_copy.id_copy,\n",
    "            f.datediff(calls_per_month.month, calls_per_month_copy.month_copy)\n",
    "            <= 93,\n",
    "        ],\n",
    "    )\n",
    "\n",
    "    aggregated_calls = unaggregated_calls.groupBy(\"external_id\", \"month\").agg(\n",
    "        f.sum(\"num_calls\").alias(\"num_calls\"), f.sum(\"calls_copy\").alias(\"calls_copy\")\n",
    "    )\n",
    "\n",
    "    combined_calls = aggregated_calls.withColumn(\n",
    "        \"number_of_recent_facetoface\", f.col(\"num_calls\") + f.col(\"calls_copy\")\n",
    "    )    \n",
    "\n",
    "    return combined_calls.select(\"external_id\", \"month\", \"number_of_recent_facetoface\")"
   ]
  },
  {
   "cell_type": "code",
   "execution_count": 30,
   "metadata": {},
   "outputs": [],
   "source": [
    "def feat_crm_number_of_recent_activity_1(\n",
    "    prm_crm_call: DataFrame) -> DataFrame:\n",
    "    \n",
    "    filters = ['Face to Face']\n",
    "    filtered_activity = prm_crm_call.where(f.col('channel').isin(filters))\n",
    "    \n",
    "    \n",
    "    calls_per_month = filtered_activity.groupBy(\"month\", \"external_id\").agg(\n",
    "        f.countDistinct(f.col(\"city\")).alias(\"distinct_workplaces\")\n",
    "    )\n",
    "    \n",
    "    calls_per_month_copy = (\n",
    "        calls_per_month.withColumnRenamed(\"distinct_workplaces\", \"distinct_workplaces_copy\")\n",
    "        .withColumnRenamed(\"external_id\", \"id_copy\")\n",
    "        .withColumnRenamed(\"month\", \"month_copy\")\n",
    "    )\n",
    "\n",
    "    unaggregated_calls = calls_per_month.join(\n",
    "        calls_per_month_copy,\n",
    "        how=\"left\",\n",
    "        on=[\n",
    "            calls_per_month.external_id == calls_per_month_copy.id_copy,\n",
    "            f.datediff(calls_per_month.month, calls_per_month_copy.month_copy)\n",
    "            <= 366,\n",
    "        ],\n",
    "    )\n",
    "\n",
    "    aggregated_calls = unaggregated_calls.groupBy(\"external_id\", \"month\").agg(\n",
    "        f.sum(\"distinct_workplaces\").alias(\"distinct_workplaces\"),\n",
    "        f.sum(\"distinct_workplaces_copy\").alias(\"distinct_workplaces_copy\")\n",
    "    )\n",
    "\n",
    "    combined_calls = aggregated_calls.withColumn(\n",
    "        \"number_of_distinct_workplaces\", f.col(\"distinct_workplaces\") + f.col(\"distinct_workplaces_copy\")\n",
    "    )    \n",
    "\n",
    "    return combined_calls.select(\"external_id\", \"month\", \"number_of_distinct_workplaces\")"
   ]
  },
  {
   "cell_type": "code",
   "execution_count": 31,
   "metadata": {},
   "outputs": [],
   "source": [
    "feat_crm_number_of_recent_facetoface_1 = feat_crm_number_of_recent_activity_1(prm_crm_call_1)"
   ]
  },
  {
   "cell_type": "code",
   "execution_count": 32,
   "metadata": {},
   "outputs": [
    {
     "name": "stdout",
     "output_type": "stream",
     "text": [
      "+--------------------+----------+-----------------------------+\n",
      "|         external_id|     month|number_of_distinct_workplaces|\n",
      "+--------------------+----------+-----------------------------+\n",
      "|          A-04275216|2018-11-30|                            0|\n",
      "|          A-04302573|2017-09-30|                            2|\n",
      "|TP-PA-DE-2017-08-...|2018-01-31|                            2|\n",
      "|        WDEA00001339|2015-11-30|                            4|\n",
      "|        WDEA00001339|2016-11-30|                            4|\n",
      "|        WDEA00001828|2018-05-31|                            4|\n",
      "|        WDEA00001828|2018-04-30|                            4|\n",
      "|        WDEA00004750|2015-07-31|                            0|\n",
      "|        WDEA00005322|2014-12-31|                            1|\n",
      "|        WDEA00005322|2016-08-31|                            2|\n",
      "|        WDEA00010846|2016-01-31|                            2|\n",
      "|        WDEA00024209|2018-12-31|                            4|\n",
      "|        WDEA00024209|2019-03-31|                            4|\n",
      "|        WDEA00026358|2017-04-30|                            6|\n",
      "|        WDEA00026358|2017-06-30|                            6|\n",
      "|        WDEA00026358|2017-07-31|                            6|\n",
      "|        WDEA00029878|2019-04-30|                            4|\n",
      "|        WDEA00029878|2017-03-31|                           16|\n",
      "|        WDEA00029878|2016-10-31|                           16|\n",
      "|        WDEA00029878|2018-10-31|                            6|\n",
      "+--------------------+----------+-----------------------------+\n",
      "only showing top 20 rows\n",
      "\n"
     ]
    }
   ],
   "source": [
    "feat_crm_number_of_recent_facetoface_1.show(20)"
   ]
  },
  {
   "cell_type": "code",
   "execution_count": 24,
   "metadata": {},
   "outputs": [],
   "source": [
    "feat_crm_number_of_recent_facetoface = feat_crm_number_of_recent_activity(prm_crm_call)"
   ]
  },
  {
   "cell_type": "code",
   "execution_count": 25,
   "metadata": {},
   "outputs": [
    {
     "name": "stdout",
     "output_type": "stream",
     "text": [
      "+--------------------+----------+---------------------------+\n",
      "|         external_id|     month|number_of_recent_facetoface|\n",
      "+--------------------+----------+---------------------------+\n",
      "|          A-04275216|2018-11-30|                          2|\n",
      "|          A-04302573|2017-09-30|                          2|\n",
      "|TP-PA-DE-2017-08-...|2018-01-31|                          2|\n",
      "|        WDEA00001339|2015-11-30|                          4|\n",
      "|        WDEA00001339|2016-11-30|                          2|\n",
      "+--------------------+----------+---------------------------+\n",
      "only showing top 5 rows\n",
      "\n"
     ]
    }
   ],
   "source": [
    "feat_crm_number_of_recent_facetoface.show(5)"
   ]
  },
  {
   "cell_type": "code",
   "execution_count": 33,
   "metadata": {},
   "outputs": [
    {
     "name": "stdout",
     "output_type": "stream",
     "text": [
      "/opt/miniconda/envs/ca-3.6/bin/python\n"
     ]
    }
   ],
   "source": [
    "import sys\n",
    "print(sys.executable)"
   ]
  },
  {
   "cell_type": "code",
   "execution_count": 5,
   "metadata": {},
   "outputs": [
    {
     "data": {
      "text/plain": [
       "'/root'"
      ]
     },
     "execution_count": 5,
     "metadata": {},
     "output_type": "execute_result"
    }
   ],
   "source": [
    "import os\n",
    "os.getcwd()"
   ]
  },
  {
   "cell_type": "code",
   "execution_count": null,
   "metadata": {},
   "outputs": [],
   "source": []
  }
 ],
 "metadata": {
  "kernelspec": {
   "display_name": "Python 3",
   "language": "python",
   "name": "python3"
  },
  "language_info": {
   "codemirror_mode": {
    "name": "ipython",
    "version": 3
   },
   "file_extension": ".py",
   "mimetype": "text/x-python",
   "name": "python",
   "nbconvert_exporter": "python",
   "pygments_lexer": "ipython3",
   "version": "3.6.8"
  }
 },
 "nbformat": 4,
 "nbformat_minor": 2
}
