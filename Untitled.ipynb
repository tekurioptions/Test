{
 "cells": [
  {
   "cell_type": "code",
   "execution_count": 1,
   "metadata": {},
   "outputs": [],
   "source": [
    "import pyspark\n",
    "from pyspark.sql import functions as f, Window\n",
    "import pandas as pd\n",
    "from kedro.pipeline import *\n",
    "from kedro.io import *\n",
    "from kedro.runner import *\n",
    "\n",
    "import pickle\n",
    "import os\n",
    "from pyspark.sql import SparkSession, DataFrame, functions as f\n",
    "from typing import Dict"
   ]
  },
  {
   "cell_type": "code",
   "execution_count": 2,
   "metadata": {},
   "outputs": [],
   "source": [
    "def create_spark_session() -> None:\n",
    "    \"\"\"\n",
    "    Placeholder function to create the spark session for a run.\n",
    "\n",
    "    \"\"\"\n",
    "    SparkSession.builder.config(\"spark.driver.memory\", \"16g\").config(\n",
    "        \"spark.executor.memory\", \"16g\"\n",
    "    ).config(\"spark.driver.maxResultSize\", \"8g\").master(\"local[*]\").config(\n",
    "        \"spark.hadoop.fs.s3a.impl\", \"org.apache.hadoop.fs.s3a.S3AFileSystem\"\n",
    "    ).config(\n",
    "        \"spark.jars.packages\", \"org.apache.hadoop:hadoop-aws:3.1.1,com.crealytics:spark-excel_2.11:0.11.1\"\n",
    "    ).config(\n",
    "        \"fs.s3a.access.key\", \"\"\n",
    "    ).config(\n",
    "        \"fs.s3a.secret.key\", \"\"\n",
    "    ).config(\n",
    "        \"fs.s3a.maxConnections\", \"5000\"\n",
    "    ).config(\n",
    "        \"spark.sql.execution.arrow.enabled\", \"true\"\n",
    "    ).config(\n",
    "        \"spark.debug.maxToStringFields\", \"100\"\n",
    "    ).config(\n",
    "        \"fs.s3a.connection.maximum\", \"5000\"\n",
    "    ).config(\n",
    "        \"spark.sql.shuffle.partitions\", \"8\"\n",
    "    ).config(\n",
    "        \"spark.sql.codegen.wholeStage\", \"false\"\n",
    "    ).appName(\n",
    "        \"comm-analytics\"\n",
    "    ).getOrCreate()"
   ]
  },
  {
   "cell_type": "code",
   "execution_count": 3,
   "metadata": {},
   "outputs": [],
   "source": [
    "create_spark_session()\n",
    "spark = SparkSession.builder.getOrCreate()"
   ]
  },
  {
   "cell_type": "code",
   "execution_count": null,
   "metadata": {},
   "outputs": [],
   "source": [
    "def load_orbit_df(path):\n",
    "    bucket = \"s3a://ucb-qb-ca-eu-west-1-data/npvu-de-data/physician_model\"\n",
    "    return spark.read.csv(path.format(bucket=bucket), header=True, inferSchema=True, sep=';')"
   ]
  }
 ],
 "metadata": {
  "kernelspec": {
   "display_name": "Python 3",
   "language": "python",
   "name": "python3"
  },
  "language_info": {
   "codemirror_mode": {
    "name": "ipython",
    "version": 3
   },
   "file_extension": ".py",
   "mimetype": "text/x-python",
   "name": "python",
   "nbconvert_exporter": "python",
   "pygments_lexer": "ipython3",
   "version": "3.6.8"
  }
 },
 "nbformat": 4,
 "nbformat_minor": 2
}
